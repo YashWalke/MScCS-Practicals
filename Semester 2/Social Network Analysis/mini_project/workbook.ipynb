{
 "cells": [
  {
   "cell_type": "markdown",
   "id": "5d42a6b5",
   "metadata": {},
   "source": [
    "# <center> Sentiment analysis in Python 3 </center>\n",
    "\n",
    "---\n",
    "\n",
    "**<u>Description:</u>**\n",
    "+ **Sentiment analysis:**\n",
    "    > Sentiment analysis (also known as ***opinion mining*** or ***emotion AI***) is the use of [natural language processing](https://en.wikipedia.org/wiki/Natural_language_processing), [text analysis](https://en.wikipedia.org/wiki/Text_analytics), [computational linguistics](https://en.wikipedia.org/wiki/Computational_linguistics), and [biometrics](https://en.wikipedia.org/wiki/Biometrics) to systematically identify, extract, quantify, and study affective states and subjective information. - [Wikipedia](https://en.wikipedia.org/wiki/Sentiment_analysis)\n",
    "\n",
    "+ **Python:**\n",
    "    > [Python](https://www.python.org/) is a [high-level](https://en.wikipedia.org/wiki/High-level_programming_language), [general-purpose programming language](https://en.wikipedia.org/wiki/General-purpose_programming_language). Its design philosophy emphasizes [code readability](https://en.wikipedia.org/wiki/Code_readability) with the use of [significant indentation](https://en.wikipedia.org/wiki/Off-side_rule). Its [language constructs](https://en.wikipedia.org/wiki/Language_construct) and [object-oriented](https://en.wikipedia.org/wiki/Object-oriented_programming) approach aim to help programmers write clear, logical code for small- and large-scale projects - [Wikipedia](https://en.wikipedia.org/wiki/Python_(programming_language))\n",
    "\n",
    "+ **NLTK:**\n",
    "    > The ***Natural Language Toolkit***, or more commonly ***NLTK***, is a suite of libraries and programs for symbolic and statistical natural language processing (NLP) for English written in the [Python programming language](https://en.wikipedia.org/wiki/Python_(programming_language)). It was developed by Steven Bird and Edward Loper in the Department of Computer and Information Science at the [University of Pennsylvania](https://en.wikipedia.org/wiki/University_of_Pennsylvania). - [Wikipedia](https://en.wikipedia.org/wiki/Natural_Language_Toolkit)\n",
    "\n",
    "+ **Text Corpus:**\n",
    "    > Text corpora (singular: text corpus) are large and structured sets of texts, which have been systematically collected. Text corpora are used by corpus linguists and within other branches of linguistics for statistical analysis, hypothesis testing, finding patterns of language use, investigating language change and variation, and teaching language proficiency. [Wikipedia](https://en.wikipedia.org/wiki/List_of_text_corpora)\n",
    "\n",
    "+ **VADER:**\n",
    "    > VADER Sentiment Analysis. VADER (Valence Aware Dictionary and sEntiment Reasoner) is a lexicon and rule-based sentiment analysis tool that is specifically attuned to sentiments expressed in social media, and works well on texts from other domains. [GitHub](https://github.com/cjhutto/vaderSentiment)\n",
    "\n",
    "<p style=\"page-break-after:always;\"></p>\n",
    "\n",
    "+ **colorama:**\n",
    "    > Simple cross-platform colored terminal text in Python - [GitHub](https://github.com/tartley/colorama)\n",
    "    "
   ]
  },
  {
   "cell_type": "markdown",
   "id": "d10fad80",
   "metadata": {},
   "source": [
    "**<u>Procedure:</u>**"
   ]
  },
  {
   "cell_type": "markdown",
   "id": "0e971649",
   "metadata": {},
   "source": [
    "+ Load required libraries"
   ]
  },
  {
   "cell_type": "code",
   "execution_count": 1,
   "id": "c2549fd4",
   "metadata": {},
   "outputs": [],
   "source": [
    "import nltk\n",
    "from nltk.corpus import stopwords, twitter_samples\n",
    "from nltk.sentiment import SentimentIntensityAnalyzer\n",
    "from statistics import mean\n",
    "from random import shuffle\n",
    "from colorama import Fore"
   ]
  },
  {
   "cell_type": "markdown",
   "id": "f59165f9",
   "metadata": {},
   "source": [
    "+ Load and test the VADER sentiment analyzer"
   ]
  },
  {
   "cell_type": "code",
   "execution_count": 2,
   "id": "898f349c",
   "metadata": {},
   "outputs": [
    {
     "data": {
      "text/plain": [
       "{'neg': 0.0, 'neu': 0.594, 'pos': 0.406, 'compound': 0.6249}"
      ]
     },
     "execution_count": 2,
     "metadata": {},
     "output_type": "execute_result"
    }
   ],
   "source": [
    "sia = SentimentIntensityAnalyzer()\n",
    "sia.polarity_scores(\"NLTK is a great package to perform NLP.\")"
   ]
  },
  {
   "cell_type": "markdown",
   "id": "9039f82c",
   "metadata": {},
   "source": [
    "+ Perform sentiment analysis on any 10 tweets"
   ]
  },
  {
   "cell_type": "code",
   "execution_count": 3,
   "id": "f510d1b4",
   "metadata": {},
   "outputs": [
    {
     "name": "stdout",
     "output_type": "stream",
     "text": [
      "\u001b[32mughh i got nothing but pain :(\n",
      "\u001b[32mThis manga is just too cute and yet made me cry.. :( http://t.co/KB6GswBxMT\n",
      "\u001b[32mRT @S_A_Somerville: So Labour would rather let the Tories in to No. 10 than speak to the @theSNP. Wow!\n",
      "\u001b[31mI feel so ill today :(\n",
      "\u001b[32mRT @NicolaSturgeon: If Miliband is going to let Tories in rather than work with SNP, we will definitely need lots of SNP MPs to protect Sco…\n",
      "\u001b[32mjust joined the #HushedPinWithSammy Event :D Might get to Text with @SammyWilk for a day! Luv U @HushedApp http://t.co/kGfgawdHy9\n",
      "\u001b[32mI'm not even tired :-(\n",
      "\u001b[31m@nathancummins_ I was gonna elaborate on that but forgot what I was going to say😂 exactly we're fucked either way so why not give ukip a go?\n",
      "\u001b[31mRT @thomasmessenger: For all Tories claiming that Labour overspent and thus caused a global financial crisis, ahem... http://t.co/DkLwCwzhDA\n",
      "\u001b[32mRT @IrvineWelsh: Miliband's confirmation he would rather have Con govt than Lab one with SNP support is continuation of his siding with Con…\n"
     ]
    }
   ],
   "source": [
    "green = Fore.GREEN\n",
    "red = Fore.RED\n",
    "\n",
    "def ispositive(tweet : str) -> bool:\n",
    "    return sia.polarity_scores(tweet)[\"compound\"] > 0\n",
    "\n",
    "tweets = [tweet for tweet in twitter_samples.strings()]\n",
    "shuffle(tweets)\n",
    "\n",
    "for tweet in tweets[ : 10]:\n",
    "    color = green\n",
    "    if not ispositive(tweet):\n",
    "        color = red\n",
    "    print(f\"{color}{tweet}\")"
   ]
  }
 ],
 "metadata": {
  "kernelspec": {
   "display_name": "Python 3 (ipykernel)",
   "language": "python",
   "name": "python3"
  },
  "language_info": {
   "codemirror_mode": {
    "name": "ipython",
    "version": 3
   },
   "file_extension": ".py",
   "mimetype": "text/x-python",
   "name": "python",
   "nbconvert_exporter": "python",
   "pygments_lexer": "ipython3",
   "version": "3.10.4"
  }
 },
 "nbformat": 4,
 "nbformat_minor": 5
}
