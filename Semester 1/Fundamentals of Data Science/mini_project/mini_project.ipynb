{
 "cells": [
  {
   "cell_type": "markdown",
   "id": "8b924107",
   "metadata": {},
   "source": [
    "# <center> Fundamentals of Data Science Mini Project </center>\n",
    "\n",
    "\n",
    "## <center> Analysis of Mall Customers </center>"
   ]
  },
  {
   "cell_type": "markdown",
   "id": "5d75eb0d",
   "metadata": {},
   "source": [
    "### <center> Import required packages </center>"
   ]
  },
  {
   "cell_type": "code",
   "execution_count": 1,
   "id": "56d552e4",
   "metadata": {},
   "outputs": [],
   "source": [
    "import numpy as np\n",
    "import pandas as pd\n",
    "import matplotlib.pyplot as plt"
   ]
  },
  {
   "cell_type": "markdown",
   "id": "63be0c50",
   "metadata": {},
   "source": [
    "### <center> Load data </center>"
   ]
  },
  {
   "cell_type": "code",
   "execution_count": 2,
   "id": "bd713d89",
   "metadata": {},
   "outputs": [
    {
     "data": {
      "text/html": [
       "<div>\n",
       "<style scoped>\n",
       "    .dataframe tbody tr th:only-of-type {\n",
       "        vertical-align: middle;\n",
       "    }\n",
       "\n",
       "    .dataframe tbody tr th {\n",
       "        vertical-align: top;\n",
       "    }\n",
       "\n",
       "    .dataframe thead th {\n",
       "        text-align: right;\n",
       "    }\n",
       "</style>\n",
       "<table border=\"1\" class=\"dataframe\">\n",
       "  <thead>\n",
       "    <tr style=\"text-align: right;\">\n",
       "      <th></th>\n",
       "      <th>CustomerID</th>\n",
       "      <th>Gender</th>\n",
       "      <th>Age</th>\n",
       "      <th>Annual Income (k$)</th>\n",
       "      <th>Spending Score (1-100)</th>\n",
       "    </tr>\n",
       "  </thead>\n",
       "  <tbody>\n",
       "    <tr>\n",
       "      <th>0</th>\n",
       "      <td>1</td>\n",
       "      <td>Male</td>\n",
       "      <td>19</td>\n",
       "      <td>15</td>\n",
       "      <td>39</td>\n",
       "    </tr>\n",
       "    <tr>\n",
       "      <th>1</th>\n",
       "      <td>2</td>\n",
       "      <td>Male</td>\n",
       "      <td>21</td>\n",
       "      <td>15</td>\n",
       "      <td>81</td>\n",
       "    </tr>\n",
       "    <tr>\n",
       "      <th>2</th>\n",
       "      <td>3</td>\n",
       "      <td>Female</td>\n",
       "      <td>20</td>\n",
       "      <td>16</td>\n",
       "      <td>6</td>\n",
       "    </tr>\n",
       "    <tr>\n",
       "      <th>3</th>\n",
       "      <td>4</td>\n",
       "      <td>Female</td>\n",
       "      <td>23</td>\n",
       "      <td>16</td>\n",
       "      <td>77</td>\n",
       "    </tr>\n",
       "    <tr>\n",
       "      <th>4</th>\n",
       "      <td>5</td>\n",
       "      <td>Female</td>\n",
       "      <td>31</td>\n",
       "      <td>17</td>\n",
       "      <td>40</td>\n",
       "    </tr>\n",
       "  </tbody>\n",
       "</table>\n",
       "</div>"
      ],
      "text/plain": [
       "   CustomerID  Gender  Age  Annual Income (k$)  Spending Score (1-100)\n",
       "0           1    Male   19                  15                      39\n",
       "1           2    Male   21                  15                      81\n",
       "2           3  Female   20                  16                       6\n",
       "3           4  Female   23                  16                      77\n",
       "4           5  Female   31                  17                      40"
      ]
     },
     "execution_count": 2,
     "metadata": {},
     "output_type": "execute_result"
    }
   ],
   "source": [
    "data_frame = pd.read_csv(\"Mall_Customers.csv\")\n",
    "data_frame.head()"
   ]
  },
  {
   "cell_type": "code",
   "execution_count": 3,
   "id": "337efec0",
   "metadata": {},
   "outputs": [],
   "source": [
    "# Remove the Customer ID column as it is not required"
   ]
  },
  {
   "cell_type": "code",
   "execution_count": 4,
   "id": "448f8408",
   "metadata": {},
   "outputs": [
    {
     "data": {
      "text/html": [
       "<div>\n",
       "<style scoped>\n",
       "    .dataframe tbody tr th:only-of-type {\n",
       "        vertical-align: middle;\n",
       "    }\n",
       "\n",
       "    .dataframe tbody tr th {\n",
       "        vertical-align: top;\n",
       "    }\n",
       "\n",
       "    .dataframe thead th {\n",
       "        text-align: right;\n",
       "    }\n",
       "</style>\n",
       "<table border=\"1\" class=\"dataframe\">\n",
       "  <thead>\n",
       "    <tr style=\"text-align: right;\">\n",
       "      <th></th>\n",
       "      <th>Gender</th>\n",
       "      <th>Age</th>\n",
       "      <th>Annual Income (k$)</th>\n",
       "      <th>Spending Score (1-100)</th>\n",
       "    </tr>\n",
       "  </thead>\n",
       "  <tbody>\n",
       "    <tr>\n",
       "      <th>0</th>\n",
       "      <td>Male</td>\n",
       "      <td>19</td>\n",
       "      <td>15</td>\n",
       "      <td>39</td>\n",
       "    </tr>\n",
       "    <tr>\n",
       "      <th>1</th>\n",
       "      <td>Male</td>\n",
       "      <td>21</td>\n",
       "      <td>15</td>\n",
       "      <td>81</td>\n",
       "    </tr>\n",
       "    <tr>\n",
       "      <th>2</th>\n",
       "      <td>Female</td>\n",
       "      <td>20</td>\n",
       "      <td>16</td>\n",
       "      <td>6</td>\n",
       "    </tr>\n",
       "    <tr>\n",
       "      <th>3</th>\n",
       "      <td>Female</td>\n",
       "      <td>23</td>\n",
       "      <td>16</td>\n",
       "      <td>77</td>\n",
       "    </tr>\n",
       "    <tr>\n",
       "      <th>4</th>\n",
       "      <td>Female</td>\n",
       "      <td>31</td>\n",
       "      <td>17</td>\n",
       "      <td>40</td>\n",
       "    </tr>\n",
       "  </tbody>\n",
       "</table>\n",
       "</div>"
      ],
      "text/plain": [
       "   Gender  Age  Annual Income (k$)  Spending Score (1-100)\n",
       "0    Male   19                  15                      39\n",
       "1    Male   21                  15                      81\n",
       "2  Female   20                  16                       6\n",
       "3  Female   23                  16                      77\n",
       "4  Female   31                  17                      40"
      ]
     },
     "execution_count": 4,
     "metadata": {},
     "output_type": "execute_result"
    }
   ],
   "source": [
    "data_frame = data_frame[[\"Gender\", \"Age\", \"Annual Income (k$)\", \"Spending Score (1-100)\"]]\n",
    "data_frame.head()"
   ]
  },
  {
   "cell_type": "code",
   "execution_count": 5,
   "id": "5d911123",
   "metadata": {},
   "outputs": [
    {
     "data": {
      "text/plain": [
       "Text(0, 0.5, 'Count')"
      ]
     },
     "execution_count": 5,
     "metadata": {},
     "output_type": "execute_result"
    },
    {
     "data": {
      "image/png": "[encoded data removed]",
      "text/plain": [
       "<Figure size 432x288 with 1 Axes>"
      ]
     },
     "metadata": {
      "needs_background": "light"
     },
     "output_type": "display_data"
    }
   ],
   "source": [
    "ax = plt.subplot()\n",
    "ax.hist(data_frame[\"Gender\"])\n",
    "ax.set_title(\"Gender wise distribution of customers\") \n",
    "ax.set_xlabel(\"Gender\")\n",
    "ax.set_ylabel(\"Count\")"
   ]
  },
  {
   "cell_type": "code",
   "execution_count": 6,
   "id": "97eafa38",
   "metadata": {},
   "outputs": [
    {
     "data": {
      "text/plain": [
       "Text(0, 0.5, 'Count')"
      ]
     },
     "execution_count": 6,
     "metadata": {},
     "output_type": "execute_result"
    },
    {
     "data": {
      "image/png": "[encoded data removed]",
      "text/plain": [
       "<Figure size 432x288 with 1 Axes>"
      ]
     },
     "metadata": {
      "needs_background": "light"
     },
     "output_type": "display_data"
    }
   ],
   "source": [
    "ax = plt.subplot()\n",
    "ax.hist(data_frame[\"Age\"])\n",
    "ax.set_title(\"Age wise distribution of customers\") \n",
    "ax.set_xlabel(\"Age\")\n",
    "ax.set_ylabel(\"Count\")"
   ]
  },
  {
   "cell_type": "code",
   "execution_count": 7,
   "id": "7e0395bb",
   "metadata": {},
   "outputs": [
    {
     "data": {
      "text/plain": [
       "Text(0, 0.5, 'Count')"
      ]
     },
     "execution_count": 7,
     "metadata": {},
     "output_type": "execute_result"
    },
    {
     "data": {
      "image/png": "[encoded data removed]",
      "text/plain": [
       "<Figure size 432x288 with 1 Axes>"
      ]
     },
     "metadata": {
      "needs_background": "light"
     },
     "output_type": "display_data"
    }
   ],
   "source": [
    "ax = plt.subplot()\n",
    "ax.hist(data_frame[\"Annual Income (k$)\"])\n",
    "ax.set_title(\"Income wise distribution of customers\") \n",
    "ax.set_xlabel(\"Annual Income (in k$)\")\n",
    "ax.set_ylabel(\"Count\")"
   ]
  },
  {
   "cell_type": "code",
   "execution_count": 8,
   "id": "b3515398",
   "metadata": {},
   "outputs": [
    {
     "data": {
      "text/plain": [
       "Text(0, 0.5, 'Count')"
      ]
     },
     "execution_count": 8,
     "metadata": {},
     "output_type": "execute_result"
    },
    {
     "data": {
      "image/png": "[encoded data removed]",
      "text/plain": [
       "<Figure size 432x288 with 1 Axes>"
      ]
     },
     "metadata": {
      "needs_background": "light"
     },
     "output_type": "display_data"
    }
   ],
   "source": [
    "ax = plt.subplot()\n",
    "ax.hist(data_frame[\"Spending Score (1-100)\"])\n",
    "ax.set_title(\"Spending Score distribution of customers\") \n",
    "ax.set_xlabel(\"Spending score (1 - 100)\")\n",
    "ax.set_ylabel(\"Count\")"
   ]
  },
  {
   "cell_type": "markdown",
   "id": "0db7d8fc",
   "metadata": {},
   "source": [
    "#### Find the probability of a male customer visiting the mall given that the spending score was greater than 50 points\n",
    "\n",
    "\n",
    "<u>Solution:</u>"
   ]
  },
  {
   "cell_type": "code",
   "execution_count": 9,
   "id": "e3838201",
   "metadata": {},
   "outputs": [
    {
     "name": "stdout",
     "output_type": "stream",
     "text": [
      "Score greater than 50   0   1\n",
      "Gender                       \n",
      "Female                 59  53\n",
      "Male                   44  44\n"
     ]
    }
   ],
   "source": [
    "# Let,\n",
    "#  A : The customer is a male.\n",
    "#  B : The customer has a spending score greater than 50 points.\n",
    "\n",
    "# Generate a pivot table to obtain required data\n",
    "data_frame[\"count\"] = 1\n",
    "data_frame[\"Score greater than 50\"] = np.where(data_frame[\"Spending Score (1-100)\"] > 50, 1, 0)\n",
    "\n",
    "pivot_table = pd.pivot_table(data_frame, values = \"count\", index = [\"Gender\"], columns = [\"Score greater than 50\"], fill_value = 0, aggfunc = np.size)\n",
    "print(pivot_table)"
   ]
  },
  {
   "cell_type": "code",
   "execution_count": 10,
   "id": "16a693f8",
   "metadata": {},
   "outputs": [
    {
     "name": "stdout",
     "output_type": "stream",
     "text": [
      "Probability of customer being a male is 0.44\n",
      "Probability of customer having a spending score greater than 50 is 0.485\n",
      "Probability of customer being a male and having a spending score greater than 50 is 0.22\n",
      "Probability of customer being male given that the spending score is greater than 50 is 0.4536082474226804\n"
     ]
    }
   ],
   "source": [
    "# Using marginal probability, we get\n",
    "P_A = (44 + 44) / (44 + 44 + 59 + 53)\n",
    "P_A_n_B = (44) / (44 + 44 + 59 + 53)\n",
    "P_B = (53 + 44) / (44 + 44 + 59 + 53)\n",
    "\n",
    "print(\"Probability of customer being a male is\", P_A)\n",
    "print(\"Probability of customer having a spending score greater than 50 is\", P_B)\n",
    "print(\"Probability of customer being a male and having a spending score greater than 50 is\", P_A_n_B)\n",
    "\n",
    "# Required probability is: P(A | B) = P(A n B) / P(B)\n",
    "P_A_given_B = P_A_n_B / P_B\n",
    "print(\"Probability of customer being male given that the spending score is greater than 50 is\", P_A_given_B)"
   ]
  },
  {
   "cell_type": "markdown",
   "id": "473984f9",
   "metadata": {},
   "source": [
    "#### Find the probability of a female customer visiting the mall with an annual income greater than 70 k\\$ given that the spending score was greater than 50 points\n",
    "\n",
    "\n",
    "<u>Solution:</u>"
   ]
  },
  {
   "cell_type": "code",
   "execution_count": 11,
   "id": "da479be3",
   "metadata": {},
   "outputs": [
    {
     "name": "stdout",
     "output_type": "stream",
     "text": [
      "Score greater than 50              0   1\n",
      "Income greater than 70 k$ Gender        \n",
      "0                         Female  42  33\n",
      "                          Male    24  27\n",
      "1                         Female  17  20\n",
      "                          Male    20  17\n"
     ]
    }
   ],
   "source": [
    "# Let,\n",
    "# A : The customer is a female\n",
    "# B : The customer has an annual income greater than 70 k$\n",
    "# C : The spending score is greater than 50 points\n",
    "\n",
    "# Generate a pivot table to obtain required data\n",
    "data_frame[\"count\"] = 1\n",
    "data_frame[\"Income greater than 70 k$\"] = np.where(data_frame[\"Annual Income (k$)\"] > 70, 1, 0)\n",
    "\n",
    "pivot_table_2 = pd.pivot_table(data_frame, values = \"count\", index = [\"Income greater than 70 k$\", \"Gender\"], columns = [\"Score greater than 50\"], fill_value = 0, aggfunc = np.size)\n",
    "print(pivot_table_2)"
   ]
  },
  {
   "cell_type": "code",
   "execution_count": 12,
   "id": "ec30d842",
   "metadata": {},
   "outputs": [
    {
     "name": "stdout",
     "output_type": "stream",
     "text": [
      "Probability of a female customer visiting the mall is 0.56\n",
      "Probability of a customer having an annual income greater than 70 k$ is 0.37\n",
      "Probability of a customer having a spending score greater than 50 is 0.485\n",
      "Probability of a female customer having an annual income greater than 70 k$ is 0.185\n",
      "Probability of a female customer having an annual income greater than 70 k$ and a spending score greater than 50 is 0.1\n",
      "Probability of a female customer with an annual income greater than 70 k$ given that the spending score is greater than 50 is 0.2061855670103093\n"
     ]
    }
   ],
   "source": [
    "# Using marginal probability, we gets\n",
    "P_A = (42 + 33 + 17 + 20) / (42 + 33 + 24 + 27 + 17 + 20 + 20 + 17)\n",
    "P_B = (17 + 20 + 20 + 17) / (42 + 33 + 24 + 27 + 17 + 20 + 20 + 17)\n",
    "P_C = (33 + 27 + 20 + 17) / (42 + 33 + 24 + 27 + 17 + 20 + 20 + 17)\n",
    "P_A_n_B = (17 + 20) / (42 + 33 + 24 + 27 + 17 + 20 + 20 + 17)\n",
    "P_A_n_B_n_C = 20 / (42 + 33 + 24 + 27 + 17 + 20 + 20 + 17)\n",
    "\n",
    "print(\"Probability of a female customer visiting the mall is\", P_A)\n",
    "print(\"Probability of a customer having an annual income greater than 70 k$ is\", P_B)\n",
    "print(\"Probability of a customer having a spending score greater than 50 is\", P_C)\n",
    "print(\"Probability of a female customer having an annual income greater than 70 k$ is\", P_A_n_B)\n",
    "print(\"Probability of a female customer having an annual income greater than 70 k$ and a spending score greater than 50 is\", \n",
    "      P_A_n_B_n_C)\n",
    "\n",
    "# Required probability is P(A n B / C) = P(A n B n C) / P(C)\n",
    "P_A_n_B_given_C = P_A_n_B_n_C / P_C\n",
    "print(\"Probability of a female customer with an annual income greater than 70 k$ given that the spending score is greater than 50 is\", P_A_n_B_given_C)"
   ]
  },
  {
   "cell_type": "code",
   "execution_count": null,
   "id": "e7782de5",
   "metadata": {},
   "outputs": [],
   "source": []
  }
 ],
 "metadata": {
  "kernelspec": {
   "display_name": "Python 3 (ipykernel)",
   "language": "python",
   "name": "python3"
  },
  "language_info": {
   "codemirror_mode": {
    "name": "ipython",
    "version": 3
   },
   "file_extension": ".py",
   "mimetype": "text/x-python",
   "name": "python",
   "nbconvert_exporter": "python",
   "pygments_lexer": "ipython3",
   "version": "3.9.8"
  }
 },
 "nbformat": 4,
 "nbformat_minor": 5
}
